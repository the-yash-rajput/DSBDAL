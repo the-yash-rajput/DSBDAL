{
 "cells": [
  {
   "cell_type": "markdown",
   "metadata": {},
   "source": [
    "Assignment 7 - Text Analytics\n",
    "\n",
    "Varad Patwardhan\n",
    "\n",
    "31163\n",
    "\n",
    "1. Extract Sample document and apply following document preprocessing methods:\n",
    "Tokenization, POS Tagging, stop words removal, Stemming and Lemmatization.\n",
    "2. Create representation of document by calculating Term Frequency and Inverse Document\n",
    "Frequency."
   ]
  },
  {
   "cell_type": "code",
   "execution_count": 1,
   "metadata": {},
   "outputs": [],
   "source": [
    "from nltk import word_tokenize, pos_tag\n",
    "from nltk.corpus import stopwords\n",
    "from nltk.stem import PorterStemmer, WordNetLemmatizer\n",
    "import math"
   ]
  },
  {
   "cell_type": "code",
   "execution_count": 2,
   "metadata": {},
   "outputs": [],
   "source": [
    "text = [\"Millions of people in India took part in an annual tree planting drive Sunday.\",\n",
    "\"More than 250 million saplings were planted in a single day across the country's most-populous state.\",\n",
    "\"The campaign was led by Uttar Pradesh state government officials, lawmakers, and activists, in a bid to reduce carbon emissions and combat climate change.\",\n",
    "\"Where were the trees planted?\",\n",
    "\"The saplings were planted by volunteers in forests, farms, schools, and along riverbanks and highways.\",\n",
    "\"\\\"We are committed to increasing the forest cover of Uttar Pradesh to over 15% of the total land area in the next five years,\\\" said state forest official Manoj Singh.\",\n",
    "\"According to another government official, the forest cover of the state has increased over the last few years.\",\n",
    "\"\\\"There has been an increase of 127 sqare kilometers [79 sqare miles] in the forest cover in Uttar Pradesh as compared to 2017,\\\" a state government spokesperson was quoted as saying in The Indian Express newspaper.\",\n",
    "\"\\\"There has also been an increase in trees and plants. The tree cover has increased to 3.05%, as compared to the national average of 2.89%,\\\" the official said, citing the 2019 Forest Survey of India report.\",\n",
    "\"How many saplings survive?\",\n",
    "\"Uttar Pradesh State Forest Minister Dara Singh said the long-term survival of the saplings remains a concern, adding that usually only 60% of the saplings survive.\",\n",
    "\"The rest succumb to disease or lack of water.\",\n",
    "\"However, he said that about 80% of the saplings planted in the last four annual drives have survived.\",\n",
    "\"\\\"All the regions where plantation is being carried out have been geo-tagged so that we can ascertain what exactly happened,\\\" Chauhan told The Pioneer newspaper.\",\n",
    "\"\\\"These saplings carry QR codes so that officials can maintain a record and verify whether the saplings survived or not. Besides, teams have been formed to monitor progress of the plantation drive,\\\" he said.\",\n",
    "\"What is the extent of India's tree planting project?\",\n",
    "\"India has vowed to have a third of its total land area, or 95 million hectares, under forest and tree cover by 2030.\",\n",
    "\"The government has allocated $6.2 billion (€5.2 billion) for the tree-planting across the country.\",\n",
    "\"However, industrial development and a rapidly growing population has put further stress on the land.\"\n",
    "]"
   ]
  },
  {
   "cell_type": "code",
   "execution_count": 3,
   "metadata": {},
   "outputs": [
    {
     "name": "stdout",
     "output_type": "stream",
     "text": [
      "['More', 'than', '250', 'million', 'saplings', 'were', 'planted', 'in', 'a', 'single', 'day', 'across', 'the', 'country', \"'s\", 'most-populous', 'state', '.']\n"
     ]
    }
   ],
   "source": [
    "tokens = word_tokenize(text=text[1])\n",
    "print(tokens)"
   ]
  },
  {
   "cell_type": "code",
   "execution_count": 4,
   "metadata": {},
   "outputs": [
    {
     "name": "stdout",
     "output_type": "stream",
     "text": [
      "[('More', 'JJR'), ('than', 'IN'), ('250', 'CD'), ('million', 'CD'), ('saplings', 'NNS'), ('were', 'VBD'), ('planted', 'VBN'), ('in', 'IN'), ('a', 'DT'), ('single', 'JJ'), ('day', 'NN'), ('across', 'IN'), ('the', 'DT'), ('country', 'NN'), (\"'s\", 'POS'), ('most-populous', 'JJ'), ('state', 'NN'), ('.', '.')]\n"
     ]
    }
   ],
   "source": [
    "postag = pos_tag(tokens=tokens)\n",
    "print(postag)"
   ]
  },
  {
   "cell_type": "code",
   "execution_count": 5,
   "metadata": {},
   "outputs": [
    {
     "name": "stdout",
     "output_type": "stream",
     "text": [
      "['250', 'million', 'saplings', 'planted', 'single', 'day', 'across', 'country', \"'s\", 'most-populous', 'state', '.']\n"
     ]
    }
   ],
   "source": [
    "stopWords = stopwords.words('english')\n",
    "\n",
    "Stop = []\n",
    "\n",
    "for i in range(len(tokens)):\n",
    "    if tokens[i].lower() not in stopWords:\n",
    "        Stop.append(tokens[i])\n",
    "\n",
    "print(Stop)"
   ]
  },
  {
   "cell_type": "code",
   "execution_count": 6,
   "metadata": {},
   "outputs": [
    {
     "name": "stdout",
     "output_type": "stream",
     "text": [
      "['more', 'than', '250', 'million', 'sapl', 'were', 'plant', 'in', 'a', 'singl', 'day', 'across', 'the', 'countri', \"'s\", 'most-popul', 'state', '.']\n"
     ]
    }
   ],
   "source": [
    "Stem = []\n",
    "for i in tokens:\n",
    "    Stem.append(PorterStemmer().stem(i))\n",
    "\n",
    "print(Stem)"
   ]
  },
  {
   "cell_type": "code",
   "execution_count": 7,
   "metadata": {},
   "outputs": [
    {
     "name": "stdout",
     "output_type": "stream",
     "text": [
      "['More', 'than', '250', 'million', 'sapling', 'were', 'planted', 'in', 'a', 'single', 'day', 'across', 'the', 'country', \"'s\", 'most-populous', 'state', '.']\n"
     ]
    }
   ],
   "source": [
    "Lem = []\n",
    "for i in tokens:\n",
    "    Lem.append(WordNetLemmatizer().lemmatize(i))\n",
    "\n",
    "print(Lem)"
   ]
  },
  {
   "cell_type": "code",
   "execution_count": 8,
   "metadata": {},
   "outputs": [
    {
     "name": "stdout",
     "output_type": "stream",
     "text": [
      "[['Millions', 'people', 'India', 'took', 'part', 'annual', 'tree', 'planting', 'drive', 'Sunday', '.'], ['250', 'million', 'saplings', 'planted', 'single', 'day', 'across', 'country', \"'s\", 'most-populous', 'state', '.'], ['campaign', 'led', 'Uttar', 'Pradesh', 'state', 'government', 'officials', ',', 'lawmakers', ',', 'activists', ',', 'bid', 'reduce', 'carbon', 'emissions', 'combat', 'climate', 'change', '.'], ['trees', 'planted', '?'], ['saplings', 'planted', 'volunteers', 'forests', ',', 'farms', ',', 'schools', ',', 'along', 'riverbanks', 'highways', '.'], ['``', 'committed', 'increasing', 'forest', 'cover', 'Uttar', 'Pradesh', '15', '%', 'total', 'land', 'area', 'next', 'five', 'years', ',', \"''\", 'said', 'state', 'forest', 'official', 'Manoj', 'Singh', '.'], ['According', 'another', 'government', 'official', ',', 'forest', 'cover', 'state', 'increased', 'last', 'years', '.'], ['``', 'increase', '127', 'sqare', 'kilometers', '[', '79', 'sqare', 'miles', ']', 'forest', 'cover', 'Uttar', 'Pradesh', 'compared', '2017', ',', \"''\", 'state', 'government', 'spokesperson', 'quoted', 'saying', 'Indian', 'Express', 'newspaper', '.'], ['``', 'also', 'increase', 'trees', 'plants', '.', 'tree', 'cover', 'increased', '3.05', '%', ',', 'compared', 'national', 'average', '2.89', '%', ',', \"''\", 'official', 'said', ',', 'citing', '2019', 'Forest', 'Survey', 'India', 'report', '.'], ['many', 'saplings', 'survive', '?'], ['Uttar', 'Pradesh', 'State', 'Forest', 'Minister', 'Dara', 'Singh', 'said', 'long-term', 'survival', 'saplings', 'remains', 'concern', ',', 'adding', 'usually', '60', '%', 'saplings', 'survive', '.'], ['rest', 'succumb', 'disease', 'lack', 'water', '.'], ['However', ',', 'said', '80', '%', 'saplings', 'planted', 'last', 'four', 'annual', 'drives', 'survived', '.'], ['``', 'regions', 'plantation', 'carried', 'geo-tagged', 'ascertain', 'exactly', 'happened', ',', \"''\", 'Chauhan', 'told', 'Pioneer', 'newspaper', '.'], ['``', 'saplings', 'carry', 'QR', 'codes', 'officials', 'maintain', 'record', 'verify', 'whether', 'saplings', 'survived', '.', 'Besides', ',', 'teams', 'formed', 'monitor', 'progress', 'plantation', 'drive', ',', \"''\", 'said', '.'], ['extent', 'India', \"'s\", 'tree', 'planting', 'project', '?'], ['India', 'vowed', 'third', 'total', 'land', 'area', ',', '95', 'million', 'hectares', ',', 'forest', 'tree', 'cover', '2030', '.'], ['government', 'allocated', '$', '6.2', 'billion', '(', '€5.2', 'billion', ')', 'tree-planting', 'across', 'country', '.'], ['However', ',', 'industrial', 'development', 'rapidly', 'growing', 'population', 'put', 'stress', 'land', '.']]\n"
     ]
    }
   ],
   "source": [
    "Preprocessed = []\n",
    "for i in text:\n",
    "    toks = word_tokenize(text=i)\n",
    "    temp = []\n",
    "    for j in toks:\n",
    "        if j.lower() not in stopWords:\n",
    "            WordNetLemmatizer().lemmatize(j)\n",
    "            temp.append(j)\n",
    "    Preprocessed.append(temp)\n",
    "print(Preprocessed)"
   ]
  },
  {
   "cell_type": "code",
   "execution_count": 9,
   "metadata": {},
   "outputs": [
    {
     "name": "stdout",
     "output_type": "stream",
     "text": [
      "{11: {'However': 1, ',': 1, 'industrial': 1, 'development': 1, 'rapidly': 1, 'growing': 1, 'population': 1, 'put': 1, 'stress': 1, 'land': 1, '.': 1}, 12: {'According': 1, 'another': 1, 'government': 1, 'official': 1, ',': 1, 'forest': 1, 'cover': 1, 'state': 1, 'increased': 1, 'last': 1, 'years': 1, '.': 1}, 20: {'campaign': 1, 'led': 1, 'Uttar': 1, 'Pradesh': 1, 'state': 1, 'government': 1, 'officials': 1, ',': 3, 'lawmakers': 1, 'activists': 1, 'bid': 1, 'reduce': 1, 'carbon': 1, 'emissions': 1, 'combat': 1, 'climate': 1, 'change': 1, '.': 1}, 3: {'trees': 1, 'planted': 1, '?': 1}, 13: {'government': 1, 'allocated': 1, '$': 1, '6.2': 1, 'billion': 2, '(': 1, '€5.2': 1, ')': 1, 'tree-planting': 1, 'across': 1, 'country': 1, '.': 1}, 24: {'``': 1, 'committed': 1, 'increasing': 1, 'forest': 2, 'cover': 1, 'Uttar': 1, 'Pradesh': 1, '15': 1, '%': 1, 'total': 1, 'land': 1, 'area': 1, 'next': 1, 'five': 1, 'years': 1, ',': 1, \"''\": 1, 'said': 1, 'state': 1, 'official': 1, 'Manoj': 1, 'Singh': 1, '.': 1}, 27: {'``': 1, 'increase': 1, '127': 1, 'sqare': 2, 'kilometers': 1, '[': 1, '79': 1, 'miles': 1, ']': 1, 'forest': 1, 'cover': 1, 'Uttar': 1, 'Pradesh': 1, 'compared': 1, '2017': 1, ',': 1, \"''\": 1, 'state': 1, 'government': 1, 'spokesperson': 1, 'quoted': 1, 'saying': 1, 'Indian': 1, 'Express': 1, 'newspaper': 1, '.': 1}, 29: {'``': 1, 'also': 1, 'increase': 1, 'trees': 1, 'plants': 1, '.': 2, 'tree': 1, 'cover': 1, 'increased': 1, '3.05': 1, '%': 2, ',': 3, 'compared': 1, 'national': 1, 'average': 1, '2.89': 1, \"''\": 1, 'official': 1, 'said': 1, 'citing': 1, '2019': 1, 'Forest': 1, 'Survey': 1, 'India': 1, 'report': 1}, 4: {'many': 1, 'saplings': 1, 'survive': 1, '?': 1}, 21: {'Uttar': 1, 'Pradesh': 1, 'State': 1, 'Forest': 1, 'Minister': 1, 'Dara': 1, 'Singh': 1, 'said': 1, 'long-term': 1, 'survival': 1, 'saplings': 2, 'remains': 1, 'concern': 1, ',': 1, 'adding': 1, 'usually': 1, '60': 1, '%': 1, 'survive': 1, '.': 1}, 6: {'rest': 1, 'succumb': 1, 'disease': 1, 'lack': 1, 'water': 1, '.': 1}, 15: {'``': 1, 'regions': 1, 'plantation': 1, 'carried': 1, 'geo-tagged': 1, 'ascertain': 1, 'exactly': 1, 'happened': 1, ',': 1, \"''\": 1, 'Chauhan': 1, 'told': 1, 'Pioneer': 1, 'newspaper': 1, '.': 1}, 25: {'``': 1, 'saplings': 2, 'carry': 1, 'QR': 1, 'codes': 1, 'officials': 1, 'maintain': 1, 'record': 1, 'verify': 1, 'whether': 1, 'survived': 1, '.': 2, 'Besides': 1, ',': 2, 'teams': 1, 'formed': 1, 'monitor': 1, 'progress': 1, 'plantation': 1, 'drive': 1, \"''\": 1, 'said': 1}, 7: {'extent': 1, 'India': 1, \"'s\": 1, 'tree': 1, 'planting': 1, 'project': 1, '?': 1}, 16: {'India': 1, 'vowed': 1, 'third': 1, 'total': 1, 'land': 1, 'area': 1, ',': 2, '95': 1, 'million': 1, 'hectares': 1, 'forest': 1, 'tree': 1, 'cover': 1, '2030': 1, '.': 1}}\n"
     ]
    }
   ],
   "source": [
    "Count = {}\n",
    "for i in Preprocessed:\n",
    "    temp = {}\n",
    "    for j in i:\n",
    "        if j in temp:\n",
    "            temp[j] += 1\n",
    "        else:\n",
    "            temp[j] = 1\n",
    "    Count[len(i)] = temp\n",
    "print(Count)"
   ]
  },
  {
   "cell_type": "code",
   "execution_count": 10,
   "metadata": {},
   "outputs": [
    {
     "name": "stdout",
     "output_type": "stream",
     "text": [
      "{11: {'However': 0.09090909090909091, ',': 0.09090909090909091, 'industrial': 0.09090909090909091, 'development': 0.09090909090909091, 'rapidly': 0.09090909090909091, 'growing': 0.09090909090909091, 'population': 0.09090909090909091, 'put': 0.09090909090909091, 'stress': 0.09090909090909091, 'land': 0.09090909090909091, '.': 0.09090909090909091}, 12: {'According': 0.08333333333333333, 'another': 0.08333333333333333, 'government': 0.08333333333333333, 'official': 0.08333333333333333, ',': 0.08333333333333333, 'forest': 0.08333333333333333, 'cover': 0.08333333333333333, 'state': 0.08333333333333333, 'increased': 0.08333333333333333, 'last': 0.08333333333333333, 'years': 0.08333333333333333, '.': 0.08333333333333333}, 20: {'campaign': 0.05, 'led': 0.05, 'Uttar': 0.05, 'Pradesh': 0.05, 'state': 0.05, 'government': 0.05, 'officials': 0.05, ',': 0.15, 'lawmakers': 0.05, 'activists': 0.05, 'bid': 0.05, 'reduce': 0.05, 'carbon': 0.05, 'emissions': 0.05, 'combat': 0.05, 'climate': 0.05, 'change': 0.05, '.': 0.05}, 3: {'trees': 0.3333333333333333, 'planted': 0.3333333333333333, '?': 0.3333333333333333}, 13: {'government': 0.07692307692307693, 'allocated': 0.07692307692307693, '$': 0.07692307692307693, '6.2': 0.07692307692307693, 'billion': 0.15384615384615385, '(': 0.07692307692307693, '€5.2': 0.07692307692307693, ')': 0.07692307692307693, 'tree-planting': 0.07692307692307693, 'across': 0.07692307692307693, 'country': 0.07692307692307693, '.': 0.07692307692307693}, 24: {'``': 0.041666666666666664, 'committed': 0.041666666666666664, 'increasing': 0.041666666666666664, 'forest': 0.08333333333333333, 'cover': 0.041666666666666664, 'Uttar': 0.041666666666666664, 'Pradesh': 0.041666666666666664, '15': 0.041666666666666664, '%': 0.041666666666666664, 'total': 0.041666666666666664, 'land': 0.041666666666666664, 'area': 0.041666666666666664, 'next': 0.041666666666666664, 'five': 0.041666666666666664, 'years': 0.041666666666666664, ',': 0.041666666666666664, \"''\": 0.041666666666666664, 'said': 0.041666666666666664, 'state': 0.041666666666666664, 'official': 0.041666666666666664, 'Manoj': 0.041666666666666664, 'Singh': 0.041666666666666664, '.': 0.041666666666666664}, 27: {'``': 0.037037037037037035, 'increase': 0.037037037037037035, '127': 0.037037037037037035, 'sqare': 0.07407407407407407, 'kilometers': 0.037037037037037035, '[': 0.037037037037037035, '79': 0.037037037037037035, 'miles': 0.037037037037037035, ']': 0.037037037037037035, 'forest': 0.037037037037037035, 'cover': 0.037037037037037035, 'Uttar': 0.037037037037037035, 'Pradesh': 0.037037037037037035, 'compared': 0.037037037037037035, '2017': 0.037037037037037035, ',': 0.037037037037037035, \"''\": 0.037037037037037035, 'state': 0.037037037037037035, 'government': 0.037037037037037035, 'spokesperson': 0.037037037037037035, 'quoted': 0.037037037037037035, 'saying': 0.037037037037037035, 'Indian': 0.037037037037037035, 'Express': 0.037037037037037035, 'newspaper': 0.037037037037037035, '.': 0.037037037037037035}, 29: {'``': 0.034482758620689655, 'also': 0.034482758620689655, 'increase': 0.034482758620689655, 'trees': 0.034482758620689655, 'plants': 0.034482758620689655, '.': 0.06896551724137931, 'tree': 0.034482758620689655, 'cover': 0.034482758620689655, 'increased': 0.034482758620689655, '3.05': 0.034482758620689655, '%': 0.06896551724137931, ',': 0.10344827586206896, 'compared': 0.034482758620689655, 'national': 0.034482758620689655, 'average': 0.034482758620689655, '2.89': 0.034482758620689655, \"''\": 0.034482758620689655, 'official': 0.034482758620689655, 'said': 0.034482758620689655, 'citing': 0.034482758620689655, '2019': 0.034482758620689655, 'Forest': 0.034482758620689655, 'Survey': 0.034482758620689655, 'India': 0.034482758620689655, 'report': 0.034482758620689655}, 4: {'many': 0.25, 'saplings': 0.25, 'survive': 0.25, '?': 0.25}, 21: {'Uttar': 0.047619047619047616, 'Pradesh': 0.047619047619047616, 'State': 0.047619047619047616, 'Forest': 0.047619047619047616, 'Minister': 0.047619047619047616, 'Dara': 0.047619047619047616, 'Singh': 0.047619047619047616, 'said': 0.047619047619047616, 'long-term': 0.047619047619047616, 'survival': 0.047619047619047616, 'saplings': 0.09523809523809523, 'remains': 0.047619047619047616, 'concern': 0.047619047619047616, ',': 0.047619047619047616, 'adding': 0.047619047619047616, 'usually': 0.047619047619047616, '60': 0.047619047619047616, '%': 0.047619047619047616, 'survive': 0.047619047619047616, '.': 0.047619047619047616}, 6: {'rest': 0.16666666666666666, 'succumb': 0.16666666666666666, 'disease': 0.16666666666666666, 'lack': 0.16666666666666666, 'water': 0.16666666666666666, '.': 0.16666666666666666}, 15: {'``': 0.06666666666666667, 'regions': 0.06666666666666667, 'plantation': 0.06666666666666667, 'carried': 0.06666666666666667, 'geo-tagged': 0.06666666666666667, 'ascertain': 0.06666666666666667, 'exactly': 0.06666666666666667, 'happened': 0.06666666666666667, ',': 0.06666666666666667, \"''\": 0.06666666666666667, 'Chauhan': 0.06666666666666667, 'told': 0.06666666666666667, 'Pioneer': 0.06666666666666667, 'newspaper': 0.06666666666666667, '.': 0.06666666666666667}, 25: {'``': 0.04, 'saplings': 0.08, 'carry': 0.04, 'QR': 0.04, 'codes': 0.04, 'officials': 0.04, 'maintain': 0.04, 'record': 0.04, 'verify': 0.04, 'whether': 0.04, 'survived': 0.04, '.': 0.08, 'Besides': 0.04, ',': 0.08, 'teams': 0.04, 'formed': 0.04, 'monitor': 0.04, 'progress': 0.04, 'plantation': 0.04, 'drive': 0.04, \"''\": 0.04, 'said': 0.04}, 7: {'extent': 0.14285714285714285, 'India': 0.14285714285714285, \"'s\": 0.14285714285714285, 'tree': 0.14285714285714285, 'planting': 0.14285714285714285, 'project': 0.14285714285714285, '?': 0.14285714285714285}, 16: {'India': 0.0625, 'vowed': 0.0625, 'third': 0.0625, 'total': 0.0625, 'land': 0.0625, 'area': 0.0625, ',': 0.125, '95': 0.0625, 'million': 0.0625, 'hectares': 0.0625, 'forest': 0.0625, 'tree': 0.0625, 'cover': 0.0625, '2030': 0.0625, '.': 0.0625}}\n"
     ]
    }
   ],
   "source": [
    "TF = {}\n",
    "for total, sentences in Count.items():\n",
    "    temp = {}\n",
    "    for word, count in sentences.items():\n",
    "        temp[word] = count/total\n",
    "    TF[total] = temp\n",
    "print(TF)"
   ]
  },
  {
   "cell_type": "code",
   "execution_count": 11,
   "metadata": {},
   "outputs": [],
   "source": [
    "docs = len(text)"
   ]
  },
  {
   "cell_type": "code",
   "execution_count": 12,
   "metadata": {},
   "outputs": [
    {
     "name": "stdout",
     "output_type": "stream",
     "text": [
      "{'However': 1, ',': 10, 'industrial': 1, 'development': 1, 'rapidly': 1, 'growing': 1, 'population': 1, 'put': 1, 'stress': 1, 'land': 3, '.': 12, 'According': 1, 'another': 1, 'government': 4, 'official': 3, 'forest': 4, 'cover': 5, 'state': 4, 'increased': 2, 'last': 1, 'years': 2, 'campaign': 1, 'led': 1, 'Uttar': 4, 'Pradesh': 4, 'officials': 2, 'lawmakers': 1, 'activists': 1, 'bid': 1, 'reduce': 1, 'carbon': 1, 'emissions': 1, 'combat': 1, 'climate': 1, 'change': 1, 'trees': 2, 'planted': 1, '?': 3, 'allocated': 1, '$': 1, '6.2': 1, 'billion': 1, '(': 1, '€5.2': 1, ')': 1, 'tree-planting': 1, 'across': 1, 'country': 1, '``': 5, 'committed': 1, 'increasing': 1, '15': 1, '%': 3, 'total': 2, 'area': 2, 'next': 1, 'five': 1, \"''\": 5, 'said': 4, 'Manoj': 1, 'Singh': 2, 'increase': 2, '127': 1, 'sqare': 1, 'kilometers': 1, '[': 1, '79': 1, 'miles': 1, ']': 1, 'compared': 2, '2017': 1, 'spokesperson': 1, 'quoted': 1, 'saying': 1, 'Indian': 1, 'Express': 1, 'newspaper': 2, 'also': 1, 'plants': 1, 'tree': 3, '3.05': 1, 'national': 1, 'average': 1, '2.89': 1, 'citing': 1, '2019': 1, 'Forest': 2, 'Survey': 1, 'India': 3, 'report': 1, 'many': 1, 'saplings': 3, 'survive': 2, 'State': 1, 'Minister': 1, 'Dara': 1, 'long-term': 1, 'survival': 1, 'remains': 1, 'concern': 1, 'adding': 1, 'usually': 1, '60': 1, 'rest': 1, 'succumb': 1, 'disease': 1, 'lack': 1, 'water': 1, 'regions': 1, 'plantation': 2, 'carried': 1, 'geo-tagged': 1, 'ascertain': 1, 'exactly': 1, 'happened': 1, 'Chauhan': 1, 'told': 1, 'Pioneer': 1, 'carry': 1, 'QR': 1, 'codes': 1, 'maintain': 1, 'record': 1, 'verify': 1, 'whether': 1, 'survived': 1, 'Besides': 1, 'teams': 1, 'formed': 1, 'monitor': 1, 'progress': 1, 'drive': 1, 'extent': 1, \"'s\": 1, 'planting': 1, 'project': 1, 'vowed': 1, 'third': 1, '95': 1, 'million': 1, 'hectares': 1, '2030': 1}\n"
     ]
    }
   ],
   "source": [
    "wdocs = {}\n",
    "for total, sentences in Count.items():\n",
    "    for word, count in sentences.items():\n",
    "        if word in wdocs:\n",
    "            wdocs[word] += 1\n",
    "        else:\n",
    "            wdocs[word] = 1\n",
    "print(wdocs)"
   ]
  },
  {
   "cell_type": "code",
   "execution_count": 13,
   "metadata": {},
   "outputs": [
    {
     "name": "stdout",
     "output_type": "stream",
     "text": [
      "{'However': 1.2787536009528289, ',': 0.2787536009528289, 'industrial': 1.2787536009528289, 'development': 1.2787536009528289, 'rapidly': 1.2787536009528289, 'growing': 1.2787536009528289, 'population': 1.2787536009528289, 'put': 1.2787536009528289, 'stress': 1.2787536009528289, 'land': 0.8016323462331665, '.': 0.1995723549052041, 'According': 1.2787536009528289, 'another': 1.2787536009528289, 'government': 0.6766936096248666, 'official': 0.8016323462331665, 'forest': 0.6766936096248666, 'cover': 0.5797835966168101, 'state': 0.6766936096248666, 'increased': 0.9777236052888477, 'last': 1.2787536009528289, 'years': 0.9777236052888477, 'campaign': 1.2787536009528289, 'led': 1.2787536009528289, 'Uttar': 0.6766936096248666, 'Pradesh': 0.6766936096248666, 'officials': 0.9777236052888477, 'lawmakers': 1.2787536009528289, 'activists': 1.2787536009528289, 'bid': 1.2787536009528289, 'reduce': 1.2787536009528289, 'carbon': 1.2787536009528289, 'emissions': 1.2787536009528289, 'combat': 1.2787536009528289, 'climate': 1.2787536009528289, 'change': 1.2787536009528289, 'trees': 0.9777236052888477, 'planted': 1.2787536009528289, '?': 0.8016323462331665, 'allocated': 1.2787536009528289, '$': 1.2787536009528289, '6.2': 1.2787536009528289, 'billion': 1.2787536009528289, '(': 1.2787536009528289, '€5.2': 1.2787536009528289, ')': 1.2787536009528289, 'tree-planting': 1.2787536009528289, 'across': 1.2787536009528289, 'country': 1.2787536009528289, '``': 0.5797835966168101, 'committed': 1.2787536009528289, 'increasing': 1.2787536009528289, '15': 1.2787536009528289, '%': 0.8016323462331665, 'total': 0.9777236052888477, 'area': 0.9777236052888477, 'next': 1.2787536009528289, 'five': 1.2787536009528289, \"''\": 0.5797835966168101, 'said': 0.6766936096248666, 'Manoj': 1.2787536009528289, 'Singh': 0.9777236052888477, 'increase': 0.9777236052888477, '127': 1.2787536009528289, 'sqare': 1.2787536009528289, 'kilometers': 1.2787536009528289, '[': 1.2787536009528289, '79': 1.2787536009528289, 'miles': 1.2787536009528289, ']': 1.2787536009528289, 'compared': 0.9777236052888477, '2017': 1.2787536009528289, 'spokesperson': 1.2787536009528289, 'quoted': 1.2787536009528289, 'saying': 1.2787536009528289, 'Indian': 1.2787536009528289, 'Express': 1.2787536009528289, 'newspaper': 0.9777236052888477, 'also': 1.2787536009528289, 'plants': 1.2787536009528289, 'tree': 0.8016323462331665, '3.05': 1.2787536009528289, 'national': 1.2787536009528289, 'average': 1.2787536009528289, '2.89': 1.2787536009528289, 'citing': 1.2787536009528289, '2019': 1.2787536009528289, 'Forest': 0.9777236052888477, 'Survey': 1.2787536009528289, 'India': 0.8016323462331665, 'report': 1.2787536009528289, 'many': 1.2787536009528289, 'saplings': 0.8016323462331665, 'survive': 0.9777236052888477, 'State': 1.2787536009528289, 'Minister': 1.2787536009528289, 'Dara': 1.2787536009528289, 'long-term': 1.2787536009528289, 'survival': 1.2787536009528289, 'remains': 1.2787536009528289, 'concern': 1.2787536009528289, 'adding': 1.2787536009528289, 'usually': 1.2787536009528289, '60': 1.2787536009528289, 'rest': 1.2787536009528289, 'succumb': 1.2787536009528289, 'disease': 1.2787536009528289, 'lack': 1.2787536009528289, 'water': 1.2787536009528289, 'regions': 1.2787536009528289, 'plantation': 0.9777236052888477, 'carried': 1.2787536009528289, 'geo-tagged': 1.2787536009528289, 'ascertain': 1.2787536009528289, 'exactly': 1.2787536009528289, 'happened': 1.2787536009528289, 'Chauhan': 1.2787536009528289, 'told': 1.2787536009528289, 'Pioneer': 1.2787536009528289, 'carry': 1.2787536009528289, 'QR': 1.2787536009528289, 'codes': 1.2787536009528289, 'maintain': 1.2787536009528289, 'record': 1.2787536009528289, 'verify': 1.2787536009528289, 'whether': 1.2787536009528289, 'survived': 1.2787536009528289, 'Besides': 1.2787536009528289, 'teams': 1.2787536009528289, 'formed': 1.2787536009528289, 'monitor': 1.2787536009528289, 'progress': 1.2787536009528289, 'drive': 1.2787536009528289, 'extent': 1.2787536009528289, \"'s\": 1.2787536009528289, 'planting': 1.2787536009528289, 'project': 1.2787536009528289, 'vowed': 1.2787536009528289, 'third': 1.2787536009528289, '95': 1.2787536009528289, 'million': 1.2787536009528289, 'hectares': 1.2787536009528289, '2030': 1.2787536009528289}\n"
     ]
    }
   ],
   "source": [
    "IDF = {}\n",
    "for total, sentences in Count.items():\n",
    "    for word in sentences.keys():\n",
    "        IDF[word] = math.log10(docs/float(wdocs[word]))\n",
    "print(IDF)"
   ]
  }
 ],
 "metadata": {
  "interpreter": {
   "hash": "916dbcbb3f70747c44a77c7bcd40155683ae19c65e1c03b4aa3499c5328201f1"
  },
  "kernelspec": {
   "display_name": "Python 3.8.10 64-bit",
   "language": "python",
   "name": "python3"
  },
  "language_info": {
   "codemirror_mode": {
    "name": "ipython",
    "version": 3
   },
   "file_extension": ".py",
   "mimetype": "text/x-python",
   "name": "python",
   "nbconvert_exporter": "python",
   "pygments_lexer": "ipython3",
   "version": "3.8.10"
  },
  "orig_nbformat": 4
 },
 "nbformat": 4,
 "nbformat_minor": 2
}
